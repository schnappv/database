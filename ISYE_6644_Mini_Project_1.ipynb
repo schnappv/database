{
  "nbformat": 4,
  "nbformat_minor": 0,
  "metadata": {
    "colab": {
      "name": "ISYE_6644_Mini_Project_1.ipynb",
      "provenance": [],
      "collapsed_sections": [],
      "include_colab_link": true
    },
    "kernelspec": {
      "name": "python3",
      "display_name": "Python 3"
    },
    "language_info": {
      "name": "python"
    }
  },
  "cells": [
    {
      "cell_type": "markdown",
      "metadata": {
        "id": "view-in-github",
        "colab_type": "text"
      },
      "source": [
        "<a href=\"https://colab.research.google.com/github/schnappv/datum/blob/master/ISYE_6644_Mini_Project_1.ipynb\" target=\"_parent\"><img src=\"https://colab.research.google.com/assets/colab-badge.svg\" alt=\"Open In Colab\"/></a>"
      ]
    },
    {
      "cell_type": "markdown",
      "metadata": {
        "id": "1I0vDEkqeWIH"
      },
      "source": [
        "Consider a classroom of 21 elementary school kids.  20 of the kids are healthy (and susceptible to flu) on Day 1.  Tommy (the 21st kid) walks in with the flu and starts interacting with his potential victims.  To keep things simple, let’s suppose that Tommy comes to school every day (whetheror not he’s sick) and will be infectious for 3 days.  Thus, there are 3 chances for Tommy to infect the other kids — Days 1, 2, and 3.  Suppose that the probabilitythat he infects any individual susceptible kid on any of the three days is p= 0.02; and suppose that all kids and days are independent (so that you have i.i.d. Bern(p) trials).\n"
      ]
    },
    {
      "cell_type": "code",
      "metadata": {
        "id": "YRMUO9P0cmWt"
      },
      "source": [
        "import matplotlib.pyplot as plt\n",
        "import numpy as np\n",
        "import pandas as pd\n",
        "import time\n",
        "\n",
        "from IPython.display import HTML, display\n",
        "from scipy import stats"
      ],
      "execution_count": null,
      "outputs": []
    },
    {
      "cell_type": "code",
      "metadata": {
        "colab": {
          "base_uri": "https://localhost:8080/",
          "height": 34
        },
        "id": "oKMTyaI7Jlh9",
        "outputId": "03a94e1f-d43d-4c05-dfab-2babdebb107a"
      },
      "source": [
        "# initiate a progress bar for running the simulation\n",
        "def progress(value, max=100):\n",
        "    return HTML(\"\"\"\n",
        "        <progress\n",
        "            value='{value}'\n",
        "            max='{max}',\n",
        "            style='width: 50%'\n",
        "        >\n",
        "            {value}\n",
        "        </progress>\n",
        "    \"\"\".format(value=value, max=max))\n",
        "    \n",
        "out = display(progress(0, 100), display_id=True)"
      ],
      "execution_count": null,
      "outputs": [
        {
          "output_type": "display_data",
          "data": {
            "text/html": [
              "\n",
              "        <progress\n",
              "            value='0'\n",
              "            max='100',\n",
              "            style='width: 50%'\n",
              "        >\n",
              "            0\n",
              "        </progress>\n",
              "    "
            ],
            "text/plain": [
              "<IPython.core.display.HTML object>"
            ]
          },
          "metadata": {
            "tags": []
          }
        }
      ]
    },
    {
      "cell_type": "markdown",
      "metadata": {
        "id": "ifCVGKGuc7PV"
      },
      "source": [
        "### (a) What is the distribution of the number of kids that Tommy infects on Day 1"
      ]
    },
    {
      "cell_type": "markdown",
      "metadata": {
        "id": "Fn2NnJjjNv9E"
      },
      "source": [
        "Since there are 20 students that could be infected my Tommy, there are 20 i.i.d `Bernoulli(p=0.02)` trials. This means that the distribution of the number of kids that Tommy infects on Day 1 is `X~Binomial(n=20, p=0.02)`. Now, we can simulate this distribution over `N=10000` trials. "
      ]
    },
    {
      "cell_type": "code",
      "metadata": {
        "id": "zgZzpLjfc6zZ"
      },
      "source": [
        "n = 21 # total number of students\n",
        "I0 = 1 # infected at time 0\n",
        "R0 = 0 # recovered at time 0\n",
        "S0 = 20 # susceptible at time 0\n",
        "p = 0.02 # susceptibility rate\n",
        "N = 10000 # number of simulation trials"
      ],
      "execution_count": null,
      "outputs": []
    },
    {
      "cell_type": "code",
      "metadata": {
        "id": "PP71Fj-vc6rr",
        "colab": {
          "base_uri": "https://localhost:8080/",
          "height": 34
        },
        "outputId": "28155e92-20bd-49b9-dd21-d88040999693"
      },
      "source": [
        "# set a random seed for reproducability \n",
        "np.random.seed(42)\n",
        "for j in range(N):\n",
        "  infected_by_tommy_on_day_one = stats.binom.rvs(n-I0, p, size=N)\n",
        "  out.update(progress(j, N))"
      ],
      "execution_count": null,
      "outputs": [
        {
          "output_type": "display_data",
          "data": {
            "text/html": [
              "\n",
              "        <progress\n",
              "            value='9999'\n",
              "            max='10000',\n",
              "            style='width: 50%'\n",
              "        >\n",
              "            9999\n",
              "        </progress>\n",
              "    "
            ],
            "text/plain": [
              "<IPython.core.display.HTML object>"
            ]
          },
          "metadata": {
            "tags": []
          }
        }
      ]
    },
    {
      "cell_type": "code",
      "metadata": {
        "colab": {
          "base_uri": "https://localhost:8080/",
          "height": 80
        },
        "id": "5zsFtl3geAty",
        "outputId": "0ac4eeb9-097b-4b5c-ef64-808fb1d8ede4"
      },
      "source": [
        "# display a summary of the number of students infected by Tommy day 1 over N trials\n",
        "pd.DataFrame(infected_by_tommy_on_day_one).describe().T"
      ],
      "execution_count": null,
      "outputs": [
        {
          "output_type": "execute_result",
          "data": {
            "text/html": [
              "<div>\n",
              "<style scoped>\n",
              "    .dataframe tbody tr th:only-of-type {\n",
              "        vertical-align: middle;\n",
              "    }\n",
              "\n",
              "    .dataframe tbody tr th {\n",
              "        vertical-align: top;\n",
              "    }\n",
              "\n",
              "    .dataframe thead th {\n",
              "        text-align: right;\n",
              "    }\n",
              "</style>\n",
              "<table border=\"1\" class=\"dataframe\">\n",
              "  <thead>\n",
              "    <tr style=\"text-align: right;\">\n",
              "      <th></th>\n",
              "      <th>count</th>\n",
              "      <th>mean</th>\n",
              "      <th>std</th>\n",
              "      <th>min</th>\n",
              "      <th>25%</th>\n",
              "      <th>50%</th>\n",
              "      <th>75%</th>\n",
              "      <th>max</th>\n",
              "    </tr>\n",
              "  </thead>\n",
              "  <tbody>\n",
              "    <tr>\n",
              "      <th>0</th>\n",
              "      <td>10000.0</td>\n",
              "      <td>0.3975</td>\n",
              "      <td>0.620268</td>\n",
              "      <td>0.0</td>\n",
              "      <td>0.0</td>\n",
              "      <td>0.0</td>\n",
              "      <td>1.0</td>\n",
              "      <td>4.0</td>\n",
              "    </tr>\n",
              "  </tbody>\n",
              "</table>\n",
              "</div>"
            ],
            "text/plain": [
              "     count    mean       std  min  25%  50%  75%  max\n",
              "0  10000.0  0.3975  0.620268  0.0  0.0  0.0  1.0  4.0"
            ]
          },
          "metadata": {
            "tags": []
          },
          "execution_count": 117
        }
      ]
    },
    {
      "cell_type": "code",
      "metadata": {
        "colab": {
          "base_uri": "https://localhost:8080/",
          "height": 295
        },
        "id": "1NAypeGDc6jb",
        "outputId": "521b5664-5ecc-4374-819d-3ddb547af991"
      },
      "source": [
        "# plot a histogram of the trials to determine a distribution\n",
        "plt.hist(infected_by_tommy_on_day_one)\n",
        "plt.title(\"Number of Students Infected by Tommy on Day 1\")\n",
        "plt.xlabel(\"Students Infected\")\n",
        "plt.ylabel(\"Simulation Trials\")\n",
        "plt.show()"
      ],
      "execution_count": null,
      "outputs": [
        {
          "output_type": "display_data",
          "data": {
            "image/png": "[encoded data removed]",
            "text/plain": [
              "<Figure size 432x288 with 1 Axes>"
            ]
          },
          "metadata": {
            "tags": [],
            "needs_background": "light"
          }
        }
      ]
    },
    {
      "cell_type": "markdown",
      "metadata": {
        "id": "L1aYffVjPQ_z"
      },
      "source": [
        "The summary show’s a right skewed distribution (i.e. the mode is less than the median is less than the mean) that heavily favors the number of students to be infected by Tommy on day one to be only 0 students. \n"
      ]
    },
    {
      "cell_type": "markdown",
      "metadata": {
        "id": "IxYgctcJPXj4"
      },
      "source": [
        "### (b) What is the expected number of kids that Tommy infects on Day 1?"
      ]
    },
    {
      "cell_type": "markdown",
      "metadata": {
        "id": "XpLfCLQzPofP"
      },
      "source": [
        "`E[X] = n*p` for a Binomial distribution (i.e. `n` Bernoulli trials). `E[X] = 20 susceptible * 0.02 = 0.4`. "
      ]
    },
    {
      "cell_type": "code",
      "metadata": {
        "colab": {
          "base_uri": "https://localhost:8080/"
        },
        "id": "SySHskObP9QS",
        "outputId": "143c22f6-662d-4a62-b398-96ad5350b55a"
      },
      "source": [
        "I1 = 1 # Students infected on day 1\n",
        "R1 = 0 # Students recovered on day 1\n",
        "S1 = 21 - I1 # Students susceptible on day 1\n",
        "\n",
        "Ex = S1 * (I1 * p)\n",
        "print(\"At day one, E[x] = \", Ex)"
      ],
      "execution_count": null,
      "outputs": [
        {
          "output_type": "stream",
          "text": [
            "At day one, E[x] =  0.4\n"
          ],
          "name": "stdout"
        }
      ]
    },
    {
      "cell_type": "markdown",
      "metadata": {
        "id": "eLfLuP7fQQ7R"
      },
      "source": [
        "Since you can’t have a fraction of a person, we are going to take the ceiling of this and expect that one student to be infected on Day 1."
      ]
    },
    {
      "cell_type": "markdown",
      "metadata": {
        "id": "PpiBLNtxPcwe"
      },
      "source": [
        "### (c) What  is  the  expected  number  of  kids  that  are  infected  by  Day  2  (you  can count Tommy if you want)?\n"
      ]
    },
    {
      "cell_type": "markdown",
      "metadata": {
        "id": "5M0AQO7vQS5I"
      },
      "source": [
        "`E[X] = n*p`. Since we now have 2 infected people (Tommy plus the person he infected), `n=21-2=19`. This also means we need to double the probability."
      ]
    },
    {
      "cell_type": "code",
      "metadata": {
        "colab": {
          "base_uri": "https://localhost:8080/"
        },
        "id": "CHccJ_2UQgaG",
        "outputId": "d4a11101-cf99-4438-c8ad-da5b956a06e0"
      },
      "source": [
        "I2 = 2 # Students infected on day 2\n",
        "R2 = 0 # Students recovered on day 2\n",
        "S2 = 21 - I2 # Students susceptible on day 2\n",
        "\n",
        "Ex = S2 * (I2 * p)\n",
        "print(\"At day 2, E[x] = \", Ex)"
      ],
      "execution_count": null,
      "outputs": [
        {
          "output_type": "stream",
          "text": [
            "At day 2, E[x] =  0.76\n"
          ],
          "name": "stdout"
        }
      ]
    },
    {
      "cell_type": "markdown",
      "metadata": {
        "id": "bZokw_IlQg6A"
      },
      "source": [
        "Since you can’t have a fraction of a person, we are going to take the ceiling of this and expect that one student to be infected on Day 2. We now expect there to be 3 people infected by Day 3."
      ]
    },
    {
      "cell_type": "markdown",
      "metadata": {
        "id": "lcDrU34fXH8w"
      },
      "source": [
        "### (d) Simulate the number of kids that are infected on Days 1,2,. . . .  Do this many times.  What are the (estimated) expected numbers of kids that are infected by Day i = 1, 2, . . .?  Produce a histogram detailing how long the “epidemic” will last."
      ]
    },
    {
      "cell_type": "code",
      "metadata": {
        "id": "ClWxuRBZZ1vu"
      },
      "source": [
        "# total number of students\n",
        "n = 21\n",
        "# infected at time 0\n",
        "I0 = 1\n",
        "# recovered at time 0\n",
        "R0 = 0\n",
        "# susceptible at time 0\n",
        "S0 = 20"
      ],
      "execution_count": null,
      "outputs": []
    },
    {
      "cell_type": "code",
      "metadata": {
        "id": "meTobcY2jyMc"
      },
      "source": [
        "def simulate_flu(n, p, I0, gamma):\n",
        "  \"\"\"\n",
        "  Simulates the flu spread in Tommy's class and determines the number of days\n",
        "  the flu will last for. Assume the infection lasts for gamma days and \n",
        "  you are recovered after (no longer susceptible). Simulation terminates\n",
        "  when either no more students are infected or no more studets are susceptible.\n",
        "\n",
        "  Parameters\n",
        "  --------\n",
        "  n : int\n",
        "    The number of students in the class\n",
        "  \n",
        "  p : float\n",
        "    The probability of infecting someone if you are infected\n",
        "  \n",
        "  I0 : int\n",
        "    The number of students initially infected\n",
        "  \n",
        "  gamma : int\n",
        "    The number of days infection lasts for\n",
        "  \n",
        "  Returns\n",
        "  --------\n",
        "  df : pd.DataFrame\n",
        "    A dataframe with daily records on students infected, susceptible, and recovered\n",
        "  \"\"\"\n",
        "  t = 0\n",
        "  infected = np.array([gamma]*I0)\n",
        "  num_infected = len(infected)\n",
        "  p_i = p * num_infected\n",
        "  num_recovered = 0\n",
        "  num_sus = n - num_infected - num_recovered\n",
        "  df = pd.DataFrame()\n",
        "  for t in range(100):\n",
        "    if np.all(infected <= 0) or num_sus < 1:\n",
        "      return df\n",
        "    df = df.append(pd.DataFrame({\n",
        "        \"Day\": t+1,\n",
        "        \"Students Infected\": num_infected,\n",
        "        \"Students Susceptible\": num_sus,\n",
        "        \"Students Recovered\": num_recovered,\n",
        "        \"Probability of Infection\": p_i\n",
        "        }, index=[t]), ignore_index=True)\n",
        "    day_t_infected = np.random.binomial(num_sus, p_i)\n",
        "    if day_t_infected != 0:\n",
        "      infected = np.append(infected, np.ones(day_t_infected) * gamma+1)\n",
        "    num_infected = len(infected[infected != 0])\n",
        "    t += 1\n",
        "    infected -= 1\n",
        "    num_recovered += len(np.where(infected == 0)[0])\n",
        "    p_i = p * num_infected\n",
        "    num_sus = n - num_infected - num_recovered"
      ],
      "execution_count": null,
      "outputs": []
    },
    {
      "cell_type": "code",
      "metadata": {
        "colab": {
          "base_uri": "https://localhost:8080/",
          "height": 266
        },
        "id": "6QuVyrvisiy3",
        "outputId": "70134152-4380-4817-ec74-7469ba323aff"
      },
      "source": [
        "# run the simulation without a random seed\n",
        "np.random.seed(None)\n",
        "df = simulate_flu(n=21, p=0.02, I0=1, gamma=3)\n",
        "\n",
        "# display results for one run\n",
        "df.set_index(\"Day\")"
      ],
      "execution_count": null,
      "outputs": [
        {
          "output_type": "execute_result",
          "data": {
            "text/html": [
              "<div>\n",
              "<style scoped>\n",
              "    .dataframe tbody tr th:only-of-type {\n",
              "        vertical-align: middle;\n",
              "    }\n",
              "\n",
              "    .dataframe tbody tr th {\n",
              "        vertical-align: top;\n",
              "    }\n",
              "\n",
              "    .dataframe thead th {\n",
              "        text-align: right;\n",
              "    }\n",
              "</style>\n",
              "<table border=\"1\" class=\"dataframe\">\n",
              "  <thead>\n",
              "    <tr style=\"text-align: right;\">\n",
              "      <th></th>\n",
              "      <th>Students Infected</th>\n",
              "      <th>Students Susceptible</th>\n",
              "      <th>Students Recovered</th>\n",
              "      <th>Probability of Infection</th>\n",
              "    </tr>\n",
              "    <tr>\n",
              "      <th>Day</th>\n",
              "      <th></th>\n",
              "      <th></th>\n",
              "      <th></th>\n",
              "      <th></th>\n",
              "    </tr>\n",
              "  </thead>\n",
              "  <tbody>\n",
              "    <tr>\n",
              "      <th>1</th>\n",
              "      <td>1</td>\n",
              "      <td>20</td>\n",
              "      <td>0</td>\n",
              "      <td>0.02</td>\n",
              "    </tr>\n",
              "    <tr>\n",
              "      <th>2</th>\n",
              "      <td>2</td>\n",
              "      <td>19</td>\n",
              "      <td>0</td>\n",
              "      <td>0.04</td>\n",
              "    </tr>\n",
              "    <tr>\n",
              "      <th>3</th>\n",
              "      <td>2</td>\n",
              "      <td>19</td>\n",
              "      <td>0</td>\n",
              "      <td>0.04</td>\n",
              "    </tr>\n",
              "    <tr>\n",
              "      <th>4</th>\n",
              "      <td>3</td>\n",
              "      <td>17</td>\n",
              "      <td>1</td>\n",
              "      <td>0.06</td>\n",
              "    </tr>\n",
              "    <tr>\n",
              "      <th>5</th>\n",
              "      <td>2</td>\n",
              "      <td>17</td>\n",
              "      <td>2</td>\n",
              "      <td>0.04</td>\n",
              "    </tr>\n",
              "    <tr>\n",
              "      <th>6</th>\n",
              "      <td>2</td>\n",
              "      <td>17</td>\n",
              "      <td>2</td>\n",
              "      <td>0.04</td>\n",
              "    </tr>\n",
              "  </tbody>\n",
              "</table>\n",
              "</div>"
            ],
            "text/plain": [
              "     Students Infected  ...  Probability of Infection\n",
              "Day                     ...                          \n",
              "1                    1  ...                      0.02\n",
              "2                    2  ...                      0.04\n",
              "3                    2  ...                      0.04\n",
              "4                    3  ...                      0.06\n",
              "5                    2  ...                      0.04\n",
              "6                    2  ...                      0.04\n",
              "\n",
              "[6 rows x 4 columns]"
            ]
          },
          "metadata": {
            "tags": []
          },
          "execution_count": 102
        }
      ]
    },
    {
      "cell_type": "code",
      "metadata": {
        "id": "LQoRLWC6szh-",
        "colab": {
          "base_uri": "https://localhost:8080/",
          "height": 34
        },
        "outputId": "118f7624-ed19-46e6-892d-7bbfe94ecf40"
      },
      "source": [
        "days_of_simulation = []\n",
        "total_df = pd.DataFrame()\n",
        "N = 10000\n",
        "\n",
        "# Run the simulation N=10,000 times and display progress with a progress bar\n",
        "for j in range(N):\n",
        "    new_df = simulate_flu(n=21, p=0.02, I0=1, gamma=3)\n",
        "    new_df[\"simulation_round\"] = j\n",
        "    days_of_simulation.append(len(new_df))\n",
        "    total_df = total_df.append(new_df)\n",
        "    out.update(progress(j, N))"
      ],
      "execution_count": null,
      "outputs": [
        {
          "output_type": "display_data",
          "data": {
            "text/html": [
              "\n",
              "        <progress\n",
              "            value='9999'\n",
              "            max='10000',\n",
              "            style='width: 50%'\n",
              "        >\n",
              "            9999\n",
              "        </progress>\n",
              "    "
            ],
            "text/plain": [
              "<IPython.core.display.HTML object>"
            ]
          },
          "metadata": {
            "tags": []
          }
        }
      ]
    },
    {
      "cell_type": "code",
      "metadata": {
        "colab": {
          "base_uri": "https://localhost:8080/",
          "height": 295
        },
        "id": "_qLUbF0YtEho",
        "outputId": "103363e3-b0bf-4a8a-f882-4d0cc5659b02"
      },
      "source": [
        "# Display a histogram to show the distribution of days over N simulations\n",
        "plt.hist(days_of_simulation)\n",
        "plt.title(\"Days of Flu in Tommy's Class\")\n",
        "plt.xlabel(\"Days\")\n",
        "plt.ylabel(\"Simulation Trials\")\n",
        "plt.show()"
      ],
      "execution_count": null,
      "outputs": [
        {
          "output_type": "display_data",
          "data": {
            "image/png": "[encoded data removed]",
            "text/plain": [
              "<Figure size 432x288 with 1 Axes>"
            ]
          },
          "metadata": {
            "tags": [],
            "needs_background": "light"
          }
        }
      ]
    },
    {
      "cell_type": "code",
      "metadata": {
        "colab": {
          "base_uri": "https://localhost:8080/",
          "height": 80
        },
        "id": "Tyd57y1KyvZl",
        "outputId": "eb72bc0c-276e-42d3-ecda-7870ca145379"
      },
      "source": [
        "# Display key statistics of the simulation trials\n",
        "pd.DataFrame(np.array(days_of_simulation)).describe().T"
      ],
      "execution_count": null,
      "outputs": [
        {
          "output_type": "execute_result",
          "data": {
            "text/html": [
              "<div>\n",
              "<style scoped>\n",
              "    .dataframe tbody tr th:only-of-type {\n",
              "        vertical-align: middle;\n",
              "    }\n",
              "\n",
              "    .dataframe tbody tr th {\n",
              "        vertical-align: top;\n",
              "    }\n",
              "\n",
              "    .dataframe thead th {\n",
              "        text-align: right;\n",
              "    }\n",
              "</style>\n",
              "<table border=\"1\" class=\"dataframe\">\n",
              "  <thead>\n",
              "    <tr style=\"text-align: right;\">\n",
              "      <th></th>\n",
              "      <th>count</th>\n",
              "      <th>mean</th>\n",
              "      <th>std</th>\n",
              "      <th>min</th>\n",
              "      <th>25%</th>\n",
              "      <th>50%</th>\n",
              "      <th>75%</th>\n",
              "      <th>max</th>\n",
              "    </tr>\n",
              "  </thead>\n",
              "  <tbody>\n",
              "    <tr>\n",
              "      <th>0</th>\n",
              "      <td>10000.0</td>\n",
              "      <td>8.0948</td>\n",
              "      <td>4.194279</td>\n",
              "      <td>3.0</td>\n",
              "      <td>3.0</td>\n",
              "      <td>9.0</td>\n",
              "      <td>11.0</td>\n",
              "      <td>22.0</td>\n",
              "    </tr>\n",
              "  </tbody>\n",
              "</table>\n",
              "</div>"
            ],
            "text/plain": [
              "     count    mean       std  min  25%  50%   75%   max\n",
              "0  10000.0  8.0948  4.194279  3.0  3.0  9.0  11.0  22.0"
            ]
          },
          "metadata": {
            "tags": []
          },
          "execution_count": 137
        }
      ]
    },
    {
      "cell_type": "markdown",
      "metadata": {
        "id": "Xo5jBCsfVvSH"
      },
      "source": [
        "This shows us that a majority of the runs terminate after 3 days because if Tommy does not infect any students, the infection will be fully gone after three days. For the simulation runs where Tommy does infect a student, then the number of days ranges from 3 to 22. "
      ]
    },
    {
      "cell_type": "code",
      "metadata": {
        "id": "y9xQ3hogxtSG"
      },
      "source": [
        ""
      ],
      "execution_count": null,
      "outputs": []
    }
  ]
}